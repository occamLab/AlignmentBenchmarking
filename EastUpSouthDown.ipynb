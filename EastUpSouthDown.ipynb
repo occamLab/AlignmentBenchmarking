{
 "cells": [
  {
   "cell_type": "code",
   "execution_count": 24,
   "id": "5fab900f",
   "metadata": {},
   "outputs": [
    {
     "data": {
      "text/plain": [
       "dict_keys(['geoLocationAlignmentAttemptTimes', 'speechDataTime', 'PathID', 'speechData', 'geoLocationAlignmentAttempts', 'pathDataTime', 'PathDate', 'navigationDataTime', 'PathData', 'geoSpatialTransformTimes', 'userId', 'PathType', 'navigationData', 'geoSpatialTransforms', 'savedRouteGeospatialLocations', 'keypointData', 'isVoiceOverOn', 'cloudAnchorsForAlignment', 'trackingErrorTime', 'stateSequence', 'garAnchorTimestamps', 'settingsHistory', 'hasMap', 'trackingErrorPhase', 'garAnchorCameraWorldTransformsAndGeoSpatialData', 'garAnchors', 'routeId', 'trackingErrorData', 'stateSequenceTime', 'ARLoggerDataDir'])"
      ]
     },
     "execution_count": 24,
     "metadata": {},
     "output_type": "execute_result"
    }
   ],
   "source": [
    "import json\n",
    "from scipy.spatial.transform import Rotation as R\n",
    "import numpy as np\n",
    "\n",
    "f = open('eastupsouth_pathdata.json')\n",
    "d = json.load(f)\n",
    "f = open('eastupsouth_metadata.json')\n",
    "d2 = json.load(f)\n",
    "d.update(d2)\n",
    "d.keys()"
   ]
  },
  {
   "cell_type": "code",
   "execution_count": 33,
   "id": "f4c961e5",
   "metadata": {},
   "outputs": [],
   "source": [
    "def east_up_south_to_rot_mat(geo_spatial_transform):\n",
    "    \"\"\"Convert the East-Up-South to a rotation matrix.\n",
    "    \n",
    "       Note: that this function does not deal with the translation part of the transform\n",
    "    \n",
    "       Arguments:\n",
    "           - geo_spatial_transform: the geo spatial transform captured by the ClewMaps logs\n",
    "       Returns:\n",
    "           - a 3 x 3 numpy array where each of the n geo spatial transforms has been\n",
    "               converted to a rotation matrix\n",
    "    \"\"\"\n",
    "    axis = np.array(geo_spatial_transform['eastUpSounth']['axis'])\n",
    "    angle = geo_spatial_transform['eastUpSounth']['angle']\n",
    "    return R.from_rotvec(axis*angle).as_matrix()\n",
    "\n",
    "east_up_south = list(map(lambda x: east_up_south_to_rot_mat(x['geospatialTransform']),\n",
    "                         d['garAnchorCameraWorldTransformsAndGeoSpatialData']))"
   ]
  },
  {
   "cell_type": "markdown",
   "id": "c4b7790c",
   "metadata": {},
   "source": [
    "Let's take a look at one of the returned elements and try to interpret it.  First\n",
    "\n",
    "```\n",
    "east_up_south[0]\n",
    "\n",
    "array([[ 6.56424743e-02, -9.71035228e-01,  2.29742576e-01],\n",
    "       [-9.62041716e-01, -4.67112738e-04,  2.72902031e-01],\n",
    "       [-2.64890170e-01, -2.38935907e-01, -9.34207060e-01]])\n",
    "```\n",
    "\n",
    "We can interpret this by remembering the meaning of this matrix.  This matrix specifies the pose of the axes of the phone in the East-Up-South frame.  Each column of the matrix will tell us how a particular phone axis (e.g., the first column is the x-axis) can be represented by the East, Up, South axes.\n",
    "\n",
    "```\n",
    "east_up_south[0,:,0]\n",
    "\n",
    "array([ 0.06564247, -0.96204172, -0.26489017])\n",
    "```\n",
    "\n",
    "We can see from the output above that the x-axis of the phone, which points down towards where the home button would be on the old iPhones, is mostly aligned with the negative up direction (meaning it's pointed down)...  That makes sense since I was holding the phone in portrait mode orientation.\n",
    "\n",
    "```\n",
    "east_up_south[0,:,2]\n",
    "\n",
    "array([ 0.22974258,  0.27290203, -0.93420706])\n",
    "```\n",
    "\n",
    "From the above we can see that the z-axis of the phone, which points out of the screen is primarily composed of the negative south axis (this would mean the z-axis was pointing north or the rear camera was pointing south)."
   ]
  }
 ],
 "metadata": {
  "kernelspec": {
   "display_name": "Python 3 (ipykernel)",
   "language": "python",
   "name": "python3"
  },
  "language_info": {
   "codemirror_mode": {
    "name": "ipython",
    "version": 3
   },
   "file_extension": ".py",
   "mimetype": "text/x-python",
   "name": "python",
   "nbconvert_exporter": "python",
   "pygments_lexer": "ipython3",
   "version": "3.9.6"
  }
 },
 "nbformat": 4,
 "nbformat_minor": 5
}
