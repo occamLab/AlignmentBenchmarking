{
 "cells": [
  {
   "cell_type": "code",
   "execution_count": null,
   "metadata": {},
   "outputs": [
    {
     "ename": "",
     "evalue": "",
     "output_type": "error",
     "traceback": [
      "\u001b[1;31mFailed to start the Kernel. \n",
      "\u001b[1;31mJupyter server crashed. Unable to connect. \n",
      "\u001b[1;31mError code from Jupyter: 1\n",
      "\u001b[1;31musage: jupyter.py [-h] [--version] [--config-dir] [--data-dir] [--runtime-dir]\n",
      "\u001b[1;31m                  [--paths] [--json] [--debug]\n",
      "\u001b[1;31m                  [subcommand]\n",
      "\u001b[1;31m\n",
      "\u001b[1;31mJupyter: Interactive Computing\n",
      "\u001b[1;31m\n",
      "\u001b[1;31mpositional arguments:\n",
      "\u001b[1;31m  subcommand     the subcommand to launch\n",
      "\u001b[1;31m\n",
      "\u001b[1;31moptions:\n",
      "\u001b[1;31m  -h, --help     show this help message and exit\n",
      "\u001b[1;31m  --version      show the versions of core jupyter packages and exit\n",
      "\u001b[1;31m  --config-dir   show Jupyter config dir\n",
      "\u001b[1;31m  --data-dir     show Jupyter data dir\n",
      "\u001b[1;31m  --runtime-dir  show Jupyter runtime dir\n",
      "\u001b[1;31m  --paths        show all Jupyter paths. Add --json for machine-readable\n",
      "\u001b[1;31m                 format.\n",
      "\u001b[1;31m  --json         output paths as machine-readable json\n",
      "\u001b[1;31m  --debug        output debug information about paths\n",
      "\u001b[1;31m\n",
      "\u001b[1;31mAvailable subcommands:\n",
      "\u001b[1;31m\n",
      "\u001b[1;31mJupyter command `jupyter-notebook` not found. \n",
      "\u001b[1;31mView Jupyter <a href='command:jupyter.viewOutput'>log</a> for further details."
     ]
    }
   ],
   "source": [
    "# your code here\n",
    "from OSMPythonTools.overpass import overpassQueryBuilder, Overpass\n",
    "import pydeck as pdk\n",
    "import pandas as pd\n",
    "\n",
    "# bounding box for area\n",
    "bbox = [-71.263053,42.289025,-71.257710,42.292009]\n",
    "\n",
    "# query for all satellite_dishes in the area\n",
    "overpass = Overpass()\n",
    "query = overpassQueryBuilder(bbox=bbox, elementType='node', selector='\"man_made\"=\"satellite_dish\"', out='body')\n",
    "result = overpass.query(query)\n",
    "\n",
    "# convert result data to JSON\n",
    "JSON = result.toJSON()  \n",
    "satellite_dishes = JSON['elements']\n",
    "locations = [(satellite_dish['lon'], satellite_dish['lat']) for satellite_dish in satellite_dishes]\n",
    "\n",
    "# create a dataframe from the locations\n",
    "df = pd.DataFrame(locations, columns=['lon', 'lat'])\n",
    "\n",
    "# create viewState and set paratmeters to lat and long near Sweden\n",
    "view_state = pdk.ViewState(\n",
    "    latitude=-71.265682,\n",
    "    longitude=42.288675,\n",
    "    zoom=9,\n",
    "    min_zoom=2,\n",
    "    max_zoom=15,\n",
    "    pitch=40.5,\n",
    "    bearing=-27.36\n",
    ")\n",
    "\n",
    "# create pydeck layer for the satellite_dishes\n",
    "layer = pdk.Layer(\n",
    "    'ScatterplotLayer',\n",
    "    data=df,\n",
    "    get_position='[lon, lat]',\n",
    "    get_radius=500,\n",
    "    get_fill_color=[255, 140, 0],\n",
    "    pickable=True\n",
    ")\n",
    "# create pydeck layer for the city locations\n",
    "city_layer = pdk.Layer(\n",
    "    'ScatterplotLayer',\n",
    "    data=None,\n",
    "    get_position='[lon, lat]',\n",
    "    get_radius=500,\n",
    "    get_fill_color=[255, 0, 0],\n",
    "    pickable=True\n",
    ")\n",
    "\n",
    "# create pydeck map\n",
    "r = pdk.Deck(layers=[layer, city_layer], initial_view_state=view_state, tooltip={\"text\": \"satellite_dish\"})\n",
    "r.to_html('satellite_dishes.html')\n",
    "\n",
    "\n"
   ]
  }
 ],
 "metadata": {
  "kernelspec": {
   "display_name": "venv",
   "language": "python",
   "name": "python3"
  },
  "language_info": {
   "name": "python",
   "version": "3.10.4"
  },
  "orig_nbformat": 4,
  "vscode": {
   "interpreter": {
    "hash": "a88bd88a4080cdb576d301c7afc5ef584af08f04e19f2afa527067b8adf267cb"
   }
  }
 },
 "nbformat": 4,
 "nbformat_minor": 2
}
