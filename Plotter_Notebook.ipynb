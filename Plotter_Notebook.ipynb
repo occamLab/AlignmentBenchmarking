{
  "cells": [
    {
      "cell_type": "code",
      "execution_count": 1,
      "metadata": {
        "colab": {
          "base_uri": "https://localhost:8080/"
        },
        "id": "eXL7itaKuK49",
        "outputId": "946712fe-9faf-4058-f022-a9e4a3875fdd"
      },
      "outputs": [
        {
          "name": "stdout",
          "output_type": "stream",
          "text": [
            "Looking in indexes: https://pypi.org/simple, https://us-python.pkg.dev/colab-wheels/public/simple/\n",
            "Collecting OSMPythonTools\n",
            "  Downloading OSMPythonTools-0.3.5.tar.gz (28 kB)\n",
            "  Preparing metadata (setup.py) ... \u001b[?25l\u001b[?25hdone\n",
            "Collecting pydeck\n",
            "  Downloading pydeck-0.8.0-py2.py3-none-any.whl (4.7 MB)\n",
            "\u001b[2K     \u001b[90m━━━━━━━━━━━━━━━━━━━━━━━━━━━━━━━━━━━━━━━━\u001b[0m \u001b[32m4.7/4.7 MB\u001b[0m \u001b[31m40.2 MB/s\u001b[0m eta \u001b[36m0:00:00\u001b[0m\n",
            "\u001b[?25hRequirement already satisfied: pandas in /usr/local/lib/python3.8/dist-packages (from -r requirements.txt (line 3)) (1.3.5)\n",
            "Requirement already satisfied: beautifulsoup4 in /usr/local/lib/python3.8/dist-packages (from OSMPythonTools->-r requirements.txt (line 1)) (4.6.3)\n",
            "Collecting geojson\n",
            "  Downloading geojson-3.0.1-py3-none-any.whl (15 kB)\n",
            "Requirement already satisfied: lxml in /usr/local/lib/python3.8/dist-packages (from OSMPythonTools->-r requirements.txt (line 1)) (4.9.2)\n",
            "Requirement already satisfied: matplotlib in /usr/local/lib/python3.8/dist-packages (from OSMPythonTools->-r requirements.txt (line 1)) (3.2.2)\n",
            "Requirement already satisfied: numpy in /usr/local/lib/python3.8/dist-packages (from OSMPythonTools->-r requirements.txt (line 1)) (1.21.6)\n",
            "Collecting ujson\n",
            "  Downloading ujson-5.7.0-cp38-cp38-manylinux_2_17_x86_64.manylinux2014_x86_64.whl (52 kB)\n",
            "\u001b[2K     \u001b[90m━━━━━━━━━━━━━━━━━━━━━━━━━━━━━━━━━━━━━━━━\u001b[0m \u001b[32m52.8/52.8 KB\u001b[0m \u001b[31m5.0 MB/s\u001b[0m eta \u001b[36m0:00:00\u001b[0m\n",
            "\u001b[?25hRequirement already satisfied: xarray in /usr/local/lib/python3.8/dist-packages (from OSMPythonTools->-r requirements.txt (line 1)) (2022.12.0)\n",
            "Requirement already satisfied: jinja2>=2.10.1 in /usr/local/lib/python3.8/dist-packages (from pydeck->-r requirements.txt (line 2)) (2.11.3)\n",
            "Requirement already satisfied: pytz>=2017.3 in /usr/local/lib/python3.8/dist-packages (from pandas->-r requirements.txt (line 3)) (2022.7.1)\n",
            "Requirement already satisfied: python-dateutil>=2.7.3 in /usr/local/lib/python3.8/dist-packages (from pandas->-r requirements.txt (line 3)) (2.8.2)\n",
            "Requirement already satisfied: MarkupSafe>=0.23 in /usr/local/lib/python3.8/dist-packages (from jinja2>=2.10.1->pydeck->-r requirements.txt (line 2)) (2.0.1)\n",
            "Requirement already satisfied: six>=1.5 in /usr/local/lib/python3.8/dist-packages (from python-dateutil>=2.7.3->pandas->-r requirements.txt (line 3)) (1.15.0)\n",
            "Requirement already satisfied: cycler>=0.10 in /usr/local/lib/python3.8/dist-packages (from matplotlib->OSMPythonTools->-r requirements.txt (line 1)) (0.11.0)\n",
            "Requirement already satisfied: kiwisolver>=1.0.1 in /usr/local/lib/python3.8/dist-packages (from matplotlib->OSMPythonTools->-r requirements.txt (line 1)) (1.4.4)\n",
            "Requirement already satisfied: pyparsing!=2.0.4,!=2.1.2,!=2.1.6,>=2.0.1 in /usr/local/lib/python3.8/dist-packages (from matplotlib->OSMPythonTools->-r requirements.txt (line 1)) (3.0.9)\n",
            "Requirement already satisfied: packaging>=21.3 in /usr/local/lib/python3.8/dist-packages (from xarray->OSMPythonTools->-r requirements.txt (line 1)) (23.0)\n",
            "Building wheels for collected packages: OSMPythonTools\n",
            "  Building wheel for OSMPythonTools (setup.py) ... \u001b[?25l\u001b[?25hdone\n",
            "  Created wheel for OSMPythonTools: filename=OSMPythonTools-0.3.5-py3-none-any.whl size=32721 sha256=8204bbe88c7210363bf1d2c04bb13862f98f9aaffd07238a8e746745f66dbca5\n",
            "  Stored in directory: /root/.cache/pip/wheels/dc/2e/0b/51582d4741d2847aa6b6cac475561cc83ee65337380d88fb8c\n",
            "Successfully built OSMPythonTools\n",
            "Installing collected packages: ujson, geojson, pydeck, OSMPythonTools\n",
            "Successfully installed OSMPythonTools-0.3.5 geojson-3.0.1 pydeck-0.8.0 ujson-5.7.0\n"
          ]
        }
      ],
      "source": [
        "%pip install -r requirements.txt"
      ]
    },
    {
      "cell_type": "code",
      "execution_count": 30,
      "metadata": {
        "colab": {
          "base_uri": "https://localhost:8080/"
        },
        "id": "L4iIihOuwVeG",
        "outputId": "3d1b71c8-ffe1-4881-b483-7a68ce0ee42b"
      },
      "outputs": [
        {
          "name": "stdout",
          "output_type": "stream",
          "text": [
            "[[-71.26406787  42.29330984]\n",
            " [-71.26406645  42.29330947]\n",
            " [-71.26406556  42.29330925]\n",
            " [-71.26406697  42.29330787]\n",
            " [-71.26406836  42.29330377]\n",
            " [-71.26406929  42.29329858]\n",
            " [-71.26407001  42.29329281]\n",
            " [-71.2640705   42.29328712]\n",
            " [-71.2640707   42.29328209]\n",
            " [-71.26407065  42.2932774 ]\n",
            " [-71.26406894  42.29327252]\n",
            " [-71.26406771  42.29326742]\n",
            " [-71.26406578  42.29326241]\n",
            " [-71.26406421  42.29325661]\n",
            " [-71.26406367  42.29325086]\n",
            " [-71.26406326  42.29324557]\n",
            " [-71.26406162  42.29324086]\n",
            " [-71.26406166  42.29323581]\n",
            " [-71.26406317  42.29323067]\n",
            " [-71.26406344  42.29322546]\n",
            " [-71.26406391  42.2932203 ]\n",
            " [-71.26406338  42.29321479]\n",
            " [-71.26406266  42.29320927]\n",
            " [-71.26406126  42.29320353]\n",
            " [-71.26405889  42.29319806]\n",
            " [-71.2640571   42.29319243]\n",
            " [-71.26405407  42.29318734]\n",
            " [-71.26405213  42.29318201]\n",
            " [-71.2640514   42.29317622]\n",
            " [-71.26405157  42.29317089]\n",
            " [-71.26405285  42.29316508]\n",
            " [-71.26405332  42.29315935]\n",
            " [-71.26405452  42.29315374]\n",
            " [-71.26405515  42.29314804]\n",
            " [-71.26405238  42.29314254]\n",
            " [-71.2640529   42.29313641]\n",
            " [-71.26405327  42.29313062]\n",
            " [-71.26405842  42.29312404]\n",
            " [-71.26405851  42.29311822]\n",
            " [-71.26405877  42.29311242]\n",
            " [-71.26405602  42.29310834]\n",
            " [-71.26405459  42.29310313]\n",
            " [-71.26405235  42.29309796]\n",
            " [-71.26404954  42.29309321]\n",
            " [-71.26404792  42.29308741]\n",
            " [-71.26404638  42.29308186]\n",
            " [-71.26404809  42.29307632]\n",
            " [-71.26404859  42.29307084]\n",
            " [-71.26404949  42.29306532]\n",
            " [-71.26405014  42.2930595 ]\n",
            " [-71.26405137  42.29305398]\n",
            " [-71.26405355  42.29304849]\n",
            " [-71.2640583   42.29304479]\n",
            " [-71.26406097  42.29303908]\n",
            " [-71.26406358  42.29303349]\n",
            " [-71.2640681   42.29302995]\n",
            " [-71.26406968  42.29302457]\n",
            " [-71.26407177  42.29301889]\n",
            " [-71.26407398  42.29301405]\n",
            " [-71.26407574  42.29300908]\n",
            " [-71.26407848  42.29300457]\n",
            " [-71.26408019  42.29300034]\n",
            " [-71.26408222  42.29299662]\n",
            " [-71.26408365  42.29299305]\n",
            " [-71.26408396  42.29299047]\n",
            " [-71.26408397  42.29298989]]\n"
          ]
        },
        {
          "data": {
            "text/plain": [
              "Index(['lon', 'lat'], dtype='object')"
            ]
          },
          "execution_count": 30,
          "metadata": {},
          "output_type": "execute_result"
        }
      ],
      "source": [
        "import pandas as pd\n",
        "import json\n",
        "import matplotlib.pyplot as plt\n",
        "import numpy as np\n",
        "f = open('tester_log_metdata.json')\n",
        "metadata = json.load(f)\n",
        "f2 = open('tester_log_pathdata.json')\n",
        "pathdata = json.load(f2)\n",
        "\n",
        "alldata = pathdata\n",
        "for key in metadata:\n",
        "    alldata[key] = metadata[key]\n",
        "\n",
        "lat_long = np.array(list(map(lambda x: (x['longitude'], x['latitude']), alldata['savedRouteGeospatialLocations'])))\n",
        "print(lat_long)\n",
        "df = pd.DataFrame(lat_long, columns=['lon', 'lat'])\n",
        "df.keys()\n"
      ]
    },
    {
      "cell_type": "code",
      "execution_count": null,
      "metadata": {
        "colab": {
          "base_uri": "https://localhost:8080/",
          "height": 500
        },
        "id": "ZU6cjHZluJZv",
        "outputId": "7fda2378-8584-4424-d715-b93aa7185b70",
        "tags": []
      },
      "outputs": [
        {
          "ename": "",
          "evalue": "",
          "output_type": "error",
          "traceback": [
            "\u001b[1;31mFailed to start the Kernel. \n",
            "\u001b[1;31mJupyter server crashed. Unable to connect. \n",
            "\u001b[1;31mError code from Jupyter: 1\n",
            "\u001b[1;31musage: jupyter.py [-h] [--version] [--config-dir] [--data-dir] [--runtime-dir]\n",
            "\u001b[1;31m                  [--paths] [--json] [--debug]\n",
            "\u001b[1;31m                  [subcommand]\n",
            "\u001b[1;31m\n",
            "\u001b[1;31mJupyter: Interactive Computing\n",
            "\u001b[1;31m\n",
            "\u001b[1;31mpositional arguments:\n",
            "\u001b[1;31m  subcommand     the subcommand to launch\n",
            "\u001b[1;31m\n",
            "\u001b[1;31moptions:\n",
            "\u001b[1;31m  -h, --help     show this help message and exit\n",
            "\u001b[1;31m  --version      show the versions of core jupyter packages and exit\n",
            "\u001b[1;31m  --config-dir   show Jupyter config dir\n",
            "\u001b[1;31m  --data-dir     show Jupyter data dir\n",
            "\u001b[1;31m  --runtime-dir  show Jupyter runtime dir\n",
            "\u001b[1;31m  --paths        show all Jupyter paths. Add --json for machine-readable\n",
            "\u001b[1;31m                 format.\n",
            "\u001b[1;31m  --json         output paths as machine-readable json\n",
            "\u001b[1;31m  --debug        output debug information about paths\n",
            "\u001b[1;31m\n",
            "\u001b[1;31mAvailable subcommands: events fileid lab labextension labhub\n",
            "\u001b[1;31m\n",
            "\u001b[1;31mJupyter command `jupyter-notebook` not found. \n",
            "\u001b[1;31mView Jupyter <a href='command:jupyter.viewOutput'>log</a> for further details."
          ]
        }
      ],
      "source": [
        "# your code here\n",
        "from OSMPythonTools.overpass import overpassQueryBuilder, Overpass\n",
        "import pydeck as pdk\n",
        "import pandas as pd\n",
        "\n",
        "# bounding box for area\n",
        "bbox = [-71.263053,42.289025,-71.257710,42.292009]\n",
        "\n",
        "# query for all satellite_dishes in the area\n",
        "overpass = Overpass()\n",
        "query = overpassQueryBuilder(bbox=bbox, elementType='node', selector='\"man_made\"=\"satellite_dish\"', out='body')\n",
        "result = overpass.query(query)\n",
        "\n",
        "# convert result data to JSON\n",
        "JSON = result.toJSON()  \n",
        "satellite_dishes = JSON['elements']\n",
        "\n",
        "# create viewState and set paratmeters to lat and long near Sweden\n",
        "view_state = pdk.ViewState(\n",
        "    latitude=42.293390,\n",
        "    longitude=-71.263974,\n",
        "    zoom=19,\n",
        "    max_zoom=20,\n",
        "    pitch=40.5,\n",
        "    bearing=-27.36\n",
        ")\n",
        "\n",
        "# create pydeck layer for the satellite_dishes\n",
        "layer = pdk.Layer(\n",
        "    'ScatterplotLayer',\n",
        "    data=df,\n",
        "    get_position='[lon, lat]',\n",
        "    get_radius=0.2,\n",
        "    get_fill_color=[255, 140, 0],\n",
        "    pickable=True\n",
        ")\n",
        "# create pydeck layer for the city locations\n",
        "layer_2 = pdk.Layer(\n",
        "    'ScatterplotLayer',\n",
        "    data=None,\n",
        "    get_position='[lon, lat]',\n",
        "    get_radius=0.2,\n",
        "    get_fill_color=[255, 0, 0],\n",
        "    pickable=True\n",
        ")\n",
        "\n",
        "# create pydeck map\n",
        "r = pdk.Deck(layers=[layer, layer_2], initial_view_state=view_state, tooltip={\"text\": \"coords\"})\n",
        "r.to_html('locations.html')\n",
        "\n",
        "\n"
      ]
    }
  ],
  "metadata": {
    "colab": {
      "provenance": []
    },
    "kernelspec": {
      "display_name": "venv",
      "language": "python",
      "name": "python3"
    },
    "language_info": {
      "codemirror_mode": {
        "name": "ipython",
        "version": 3
      },
      "file_extension": ".py",
      "mimetype": "text/x-python",
      "name": "python",
      "nbconvert_exporter": "python",
      "pygments_lexer": "ipython3",
      "version": "3.10.4"
    },
    "vscode": {
      "interpreter": {
        "hash": "a88bd88a4080cdb576d301c7afc5ef584af08f04e19f2afa527067b8adf267cb"
      }
    }
  },
  "nbformat": 4,
  "nbformat_minor": 0
}
