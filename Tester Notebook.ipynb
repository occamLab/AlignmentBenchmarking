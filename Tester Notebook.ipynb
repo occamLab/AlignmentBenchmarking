{
 "cells": [
  {
   "cell_type": "code",
   "execution_count": 49,
   "id": "62f946f1",
   "metadata": {},
   "outputs": [],
   "source": [
    "import os\n",
    "\n",
    "json_pairs = []\n",
    "cleaned_files = []\n",
    "\n",
    "def group_files(files):\n",
    "    file_dict = {}\n",
    "    for file, extn in files:\n",
    "        if file in file_dict:\n",
    "            file_dict[file].append(file+extn)\n",
    "        else:\n",
    "            file_dict[file] = [file+extn]\n",
    "    return [tuple(values) for _, values in file_dict.items()]\n",
    "\n",
    "# add tupeles of matching filename jsons to json_pairs\n",
    "for file in os.listdir('jsons'):\n",
    "    if file.endswith(\"_pathdata.json\"):\n",
    "        file = (file[:-14], file[-14:])\n",
    "    elif file.endswith(\"-0_metadata.json\"):\n",
    "        file = (file[:-16], file[-16:])\n",
    "    cleaned_files.append(file)\n",
    "\n",
    "# pick out pairs from cleaned_files\n",
    "cleaned_files = [file for file in cleaned_files if type(file) == tuple]\n",
    "\n",
    "json_pairs = group_files(cleaned_files)"
   ]
  },
  {
   "cell_type": "code",
   "execution_count": 54,
   "id": "7f1f2040",
   "metadata": {},
   "outputs": [
    {
     "name": "stdout",
     "output_type": "stream",
     "text": [
      "0\n",
      "0\n",
      "0\n",
      "0\n",
      "KeyError: 108C8801-4272-49AA-BDC7-08D3DACDBEB62022-08-19T13:46:09-04:00-0_metadata.json\n",
      "0\n",
      "0\n",
      "0\n",
      "0\n",
      "0\n",
      "0\n",
      "0\n",
      "0\n",
      "0\n",
      "0\n",
      "0\n",
      "0\n"
     ]
    }
   ],
   "source": [
    "import json\n",
    "import numpy as np\n",
    "import matplotlib.pyplot as plt\n",
    "\n",
    "def test_valid_pairs(json_pairs):\n",
    "    for pair in json_pairs:\n",
    "        f = open(f\"jsons/{pair[0]}\")\n",
    "        metadata = json.load(f)\n",
    "        f2 = open(f\"jsons/{pair[1]}\")\n",
    "        pathdata = json.load(f2)\n",
    "\n",
    "        alldata = pathdata\n",
    "        for key in metadata:\n",
    "            alldata[key] = metadata[key]\n",
    "\n",
    "        try:\n",
    "            lat_long = np.array(list(map(lambda x: (x['GARAnchorUUID'], x['longitude'], x['latitude'], x['geoAnchorTransform']), alldata['savedRouteGeospatialLocations'])), dtype=object)\n",
    "            gar_anchors = np.array(list(map(lambda x: (x['identifier'], x['transform']), alldata['garAnchors'][-1])), dtype=object)\n",
    "\n",
    "            # filter and sort gar_anchors to match corresponding ID for lat_long points\n",
    "            gar_anchors_filtered = []\n",
    "            for x in lat_long:\n",
    "                for y in gar_anchors:\n",
    "                    if x[0] == y[0]:  # if IDs match\n",
    "                        gar_anchors_filtered.append(y)\n",
    "            print(len(gar_anchors_filtered))\n",
    "        \n",
    "        except KeyError:\n",
    "            print(f\"KeyError: {pair[0]}\")\n",
    "            continue\n",
    "\n",
    "test_valid_pairs(json_pairs)\n",
    "f = open('2E8519AA-4E63-4B9E-9D4E-05F7AFA202872023-03-03T09:51:12-05:00-0_metadata.json')\n",
    "metadata = json.load(f)\n",
    "f2 = open('2E8519AA-4E63-4B9E-9D4E-05F7AFA202872023-03-03T09:51:12-05:00_pathdata.json')\n",
    "pathdata = json.load(f2)\n",
    "\n",
    "alldata = pathdata\n",
    "for key in metadata:\n",
    "    alldata[key] = metadata[key]"
   ]
  },
  {
   "cell_type": "markdown",
   "id": "db78d9f5",
   "metadata": {},
   "source": [
    "## Cloud Anchors\n",
    "\n",
    "Here are the cloud anchors we would use to do alignment."
   ]
  },
  {
   "cell_type": "code",
   "execution_count": 2,
   "id": "36743aad",
   "metadata": {},
   "outputs": [
    {
     "name": "stdout",
     "output_type": "stream",
     "text": [
      "[{'anchorIdentifier': 'BAD746EF-9A4D-4A55-939D-0A56FD87FDF7', 'cloudAnchorID': 'ua-06ce32db18664d2edb7e4e34e74996dd', 'anchorTransform': [-0.697699248790741, 7.523176748236438e-09, -0.7163907885551453, 0, 2.6671980180026367e-09, 1, 7.903890875127217e-09, 0, 0.7163907885551453, 3.6037823836210237e-09, -0.697699248790741, 0, 0.2449275553226471, 0.057402439415454865, 0.22862039506435394, 1]}, {'anchorTransform': [-0.4988815188407898, -1.1417586875950292e-08, 0.8666701912879944, 0, -9.629907538055704e-08, 1, -4.225856997663868e-08, 0, -0.8666701912879944, -1.045415558564855e-07, -0.4988815188407898, 0, -11.93743896484375, -0.20666222274303436, -5.221015453338623, 1], 'anchorIdentifier': '52F7318E-B0CA-4240-A0B4-A7EEDC86DC79', 'cloudAnchorID': 'ua-5821c2b05e0931485805813de97aa696'}]\n"
     ]
    }
   ],
   "source": [
    "cloud_anchors_for_alignment = alldata['cloudAnchorsForAlignment']\n",
    "print(cloud_anchors_for_alignment)"
   ]
  },
  {
   "cell_type": "code",
   "execution_count": 3,
   "id": "3431b61e",
   "metadata": {},
   "outputs": [
    {
     "name": "stdout",
     "output_type": "stream",
     "text": [
      "cloud anchor 1 position [0.24492756 0.05740244 0.2286204 ]\n",
      "cloud anchor 2 position [-11.93743896  -0.20666222  -5.22101545]\n"
     ]
    }
   ],
   "source": [
    "import numpy as np\n",
    "\n",
    "cloudAnchorTransforms = np.array(list(map(lambda x: np.array(x['anchorTransform']).reshape((4,4)).T, cloud_anchors_for_alignment)))\n",
    "print(\"cloud anchor 1 position\", cloudAnchorTransforms[0,:-1,-1])\n",
    "print(\"cloud anchor 2 position\", cloudAnchorTransforms[1,:-1,-1])"
   ]
  },
  {
   "cell_type": "markdown",
   "id": "5e3e8f60",
   "metadata": {},
   "source": [
    "## Geospatial Anchors\n",
    "\n",
    "Here is how we would use geospatial alignment"
   ]
  },
  {
   "cell_type": "code",
   "execution_count": 4,
   "id": "010676e4",
   "metadata": {},
   "outputs": [
    {
     "name": "stdout",
     "output_type": "stream",
     "text": [
      "[[ 42.29354138 -71.26396228]\n",
      " [ 42.29354195 -71.26396232]\n",
      " [ 42.29354211 -71.26396241]\n",
      " [ 42.29354194 -71.26396262]\n",
      " [ 42.29354167 -71.26396277]\n",
      " [ 42.29354185 -71.26396268]\n",
      " [ 42.29354185 -71.26396263]\n",
      " [ 42.2935418  -71.26396267]\n",
      " [ 42.29354116 -71.26396311]\n",
      " [ 42.29353818 -71.26396334]\n",
      " [ 42.29353372 -71.26396399]\n",
      " [ 42.2935291  -71.26396665]\n",
      " [ 42.29352441 -71.26396884]\n",
      " [ 42.29351933 -71.26397115]\n",
      " [ 42.29351307 -71.26397153]\n",
      " [ 42.29350789 -71.26397356]\n",
      " [ 42.29350289 -71.26397671]\n",
      " [ 42.29349816 -71.26397945]\n",
      " [ 42.29349376 -71.26398339]\n",
      " [ 42.29348876 -71.26398534]\n",
      " [ 42.2934836  -71.26398723]\n",
      " [ 42.29347848 -71.26398911]\n",
      " [ 42.29347317 -71.26399113]\n",
      " [ 42.29346741 -71.2639932 ]\n",
      " [ 42.293462   -71.26399547]\n",
      " [ 42.29345647 -71.2639993 ]\n",
      " [ 42.29345075 -71.26400165]\n",
      " [ 42.29344284 -71.26400615]\n",
      " [ 42.29343604 -71.2640094 ]\n",
      " [ 42.29343054 -71.26401296]\n",
      " [ 42.29342482 -71.26401547]\n",
      " [ 42.29341973 -71.26401841]\n",
      " [ 42.29341404 -71.26402054]\n",
      " [ 42.29340865 -71.26402254]\n",
      " [ 42.29340245 -71.26402444]\n",
      " [ 42.29339635 -71.26402509]\n",
      " [ 42.29339056 -71.26402726]\n",
      " [ 42.2933845  -71.26402792]\n",
      " [ 42.29337921 -71.26403014]\n",
      " [ 42.29337312 -71.26403119]\n",
      " [ 42.2933676  -71.26403315]\n",
      " [ 42.29336148 -71.26403439]\n",
      " [ 42.29335574 -71.26403596]\n",
      " [ 42.29334985 -71.26403817]\n",
      " [ 42.29334443 -71.26403978]\n",
      " [ 42.2933388  -71.26404108]\n",
      " [ 42.29333241 -71.26404114]\n",
      " [ 42.29332679 -71.26404311]\n",
      " [ 42.2933205  -71.26404345]\n",
      " [ 42.29331492 -71.26404468]\n",
      " [ 42.29330889 -71.26404542]\n",
      " [ 42.29330333 -71.26404701]\n",
      " [ 42.29329728 -71.26404841]\n",
      " [ 42.29329147 -71.26404984]\n",
      " [ 42.29328535 -71.26405238]\n",
      " [ 42.29327923 -71.26405438]\n",
      " [ 42.29327326 -71.26405649]\n",
      " [ 42.29326688 -71.26405631]\n",
      " [ 42.29326044 -71.26405717]\n",
      " [ 42.29325385 -71.26405691]\n",
      " [ 42.29324741 -71.26405683]\n",
      " [ 42.29324006 -71.26405532]\n",
      " [ 42.29323343 -71.26405601]\n",
      " [ 42.29322671 -71.26405675]\n",
      " [ 42.29322051 -71.2640563 ]\n",
      " [ 42.29321359 -71.26405696]\n",
      " [ 42.29320608 -71.26405726]\n",
      " [ 42.29319889 -71.26405727]\n",
      " [ 42.29319182 -71.26405621]\n",
      " [ 42.29318434 -71.26405598]\n",
      " [ 42.293177   -71.26405462]\n",
      " [ 42.29316994 -71.26405324]\n",
      " [ 42.29316272 -71.26405131]\n",
      " [ 42.29315576 -71.26405087]\n",
      " [ 42.29314865 -71.26404968]\n",
      " [ 42.29314167 -71.26404941]\n",
      " [ 42.2931352  -71.2640494 ]\n",
      " [ 42.29312838 -71.26405006]\n",
      " [ 42.29312155 -71.26405088]\n",
      " [ 42.29311477 -71.26405161]\n",
      " [ 42.2931083  -71.26405271]\n",
      " [ 42.29310188 -71.26405423]\n",
      " [ 42.29309493 -71.26405612]\n",
      " [ 42.29308855 -71.26405632]\n",
      " [ 42.29308233 -71.26405672]\n",
      " [ 42.29307541 -71.26405559]\n",
      " [ 42.29306845 -71.26405533]\n",
      " [ 42.29306198 -71.2640554 ]\n",
      " [ 42.29305557 -71.26405705]\n",
      " [ 42.29304878 -71.26405888]\n",
      " [ 42.29304243 -71.26406078]\n",
      " [ 42.29303611 -71.26406203]\n",
      " [ 42.29303042 -71.26406438]\n",
      " [ 42.2930243  -71.26406649]\n",
      " [ 42.29302062 -71.26407061]\n",
      " [ 42.29301493 -71.26407396]\n",
      " [ 42.29300918 -71.26407599]\n",
      " [ 42.29300307 -71.26407823]\n",
      " [ 42.29299712 -71.26407936]\n",
      " [ 42.29299266 -71.2640809 ]\n",
      " [ 42.29298977 -71.26408243]]\n"
     ]
    },
    {
     "data": {
      "image/png": "[encoded data removed]",
      "text/plain": [
       "<Figure size 640x480 with 1 Axes>"
      ]
     },
     "metadata": {},
     "output_type": "display_data"
    }
   ],
   "source": [
    "lat_lons = np.array(list(map(lambda x: (x['latitude'], x['longitude']), alldata['savedRouteGeospatialLocations'])))\n",
    "plt.scatter(lat_lons[:,0], lat_lons[:,1])\n",
    "print(lat_lons)\n",
    "plt.xlabel('latitude')\n",
    "plt.ylabel('longitude')\n",
    "plt.show()"
   ]
  },
  {
   "cell_type": "code",
   "execution_count": 5,
   "id": "0d0f825b",
   "metadata": {},
   "outputs": [
    {
     "name": "stdout",
     "output_type": "stream",
     "text": [
      "[array([  0.15077506,   0.21316877,   0.23125339,   0.21042733,\n",
      "         0.17721567,   0.19339687,   0.18964671,   0.18368299,\n",
      "         0.11726286,  -0.21179935,  -0.70056438,  -1.18695474,\n",
      "        -1.68565392,  -2.2293036 ,  -2.91850543,  -3.47784567,\n",
      "        -4.00813246,  -4.51319599,  -4.97666597,  -5.51566982,\n",
      "        -6.07244349,  -6.617064  ,  -7.18572617,  -7.80852032,\n",
      "        -8.38895893,  -8.96337414,  -9.57671738, -10.16321659,\n",
      "       -10.76999283, -11.32561588, -11.93743896, -12.48015213,\n",
      "       -13.09528732, -13.67387962, -14.34418869, -15.01782322,\n",
      "       -15.64738083, -16.31669044, -16.88770485, -17.55516624,\n",
      "       -18.15223885, -18.82063293, -19.44370461, -20.08097267,\n",
      "       -20.67080879, -21.24054146, -21.90066719, -22.49848175,\n",
      "       -23.19060898, -23.80230141, -24.46477127, -25.07006645,\n",
      "       -25.73002052, -26.36064911, -27.02209473, -27.68452263,\n",
      "       -28.32441902, -29.02411461, -29.72878838, -30.45625114,\n",
      "       -31.0968895 , -31.78771973, -32.48537827, -33.21819305,\n",
      "       -33.90649033, -34.66489792, -35.49356461, -36.28660202,\n",
      "       -37.07533646, -37.90357971, -38.72217941, -39.51281357,\n",
      "       -40.32660294, -41.09995651, -41.89332962, -42.66664886,\n",
      "       -43.43845367, -44.20494461, -44.95899582, -45.70347214,\n",
      "       -46.41476822, -47.11621094, -47.87988663, -48.58705902,\n",
      "       -49.27549362, -50.05811691, -50.83299637, -51.55469894,\n",
      "       -52.26385498, -53.00779343, -53.7003746 , -54.39774323,\n",
      "       -55.01831055, -55.68904114, -56.32434464, -56.99808502,\n",
      "       -57.63859558, -58.30527496, -58.95854568, -59.44688797,\n",
      "       -59.75934219]), array([  0.16154337,   0.16672017,   0.16062856,   0.1407045 ,\n",
      "         0.1258664 ,   0.13369592,   0.1395746 ,   0.13579072,\n",
      "         0.09328774,   0.04364097,  -0.05867816,  -0.3297902 ,\n",
      "        -0.5511378 ,  -0.79210269,  -0.8897481 ,  -1.10563493,\n",
      "        -1.41766393,  -1.69556332,  -2.05729032,  -2.26736403,\n",
      "        -2.47334433,  -2.6778059 ,  -2.89714217,  -3.12964892,\n",
      "        -3.3719492 ,  -3.73638701,  -3.98350668,  -4.33424997,\n",
      "        -4.62290573,  -4.96028042,  -5.22101545,  -5.51190042,\n",
      "        -5.74445629,  -5.96541929,  -6.18444109,  -6.29173803,\n",
      "        -6.51806068,  -6.62425661,  -6.85565186,  -7.00056314,\n",
      "        -7.21274281,  -7.37198973,  -7.55238438,  -7.78685141,\n",
      "        -7.96811008,  -8.20840549,  -8.36123371,  -8.59566212,\n",
      "        -8.68730831,  -8.84166813,  -8.9604826 ,  -9.14040661,\n",
      "        -9.31253338,  -9.4844799 ,  -9.74909496,  -9.96759987,\n",
      "       -10.20171547, -10.24858952, -10.3804369 , -10.42041016,\n",
      "       -10.54218674, -10.61428738, -10.76599598, -10.89510918,\n",
      "       -10.91481972, -11.03363895, -11.12866497, -11.19081211,\n",
      "       -11.16948509, -11.22077656, -11.17380238, -11.12127495,\n",
      "       -11.02704144, -11.04150963, -11.00403881, -11.04516125,\n",
      "       -11.0825386 , -11.19134808, -11.31761932, -11.45367432,\n",
      "       -11.60683823, -11.7872467 , -11.9971838 , -12.07087803,\n",
      "       -12.15912914, -12.1299572 , -12.17376804, -12.23796654,\n",
      "       -12.37630463, -12.54656029, -12.74707699, -12.90253067,\n",
      "       -13.13755035, -13.35344124, -13.50126457, -13.76385212,\n",
      "       -13.95905018, -14.18229103, -14.31402588, -14.46861553,\n",
      "       -14.6136837 ])]\n"
     ]
    },
    {
     "data": {
      "image/png": "[encoded data removed]",
      "text/plain": [
       "<Figure size 640x480 with 1 Axes>"
      ]
     },
     "metadata": {},
     "output_type": "display_data"
    }
   ],
   "source": [
    "geoAnchorTransforms = np.array(list(map(lambda x: np.array(x['geoAnchorTransform']).reshape((4,4)), alldata['savedRouteGeospatialLocations'])))\n",
    "print([geoAnchorTransforms[:,-1,0], geoAnchorTransforms[:,-1,2]])\n",
    "plt.scatter(geoAnchorTransforms[:,-1,0], geoAnchorTransforms[:,-1,2])\n",
    "plt.show()"
   ]
  },
  {
   "cell_type": "markdown",
   "id": "3f2f4112",
   "metadata": {},
   "source": [
    "## Examining GAR Anchors\n",
    "\n",
    "These are used for alignment to the saved route."
   ]
  },
  {
   "cell_type": "code",
   "execution_count": 6,
   "id": "0ebbf954",
   "metadata": {},
   "outputs": [
    {
     "name": "stdout",
     "output_type": "stream",
     "text": [
      "flattened [[ 7.22868983e-01 -2.42343423e-10  6.90985089e-01]\n",
      " [-8.44224815e-11  1.00000001e+00 -1.57212712e-10]\n",
      " [-6.90985106e-01  5.60008367e-11  7.22869006e-01]]\n",
      "original [[ 7.22711519e-01  1.88893714e-02  6.90891606e-01  2.76951586e+00]\n",
      " [-1.66706667e-02  9.99812065e-01 -9.89697609e-03  4.01880766e-01]\n",
      " [-6.90948719e-01 -4.36496515e-03  7.22890608e-01  1.48817264e+01]\n",
      " [ 0.00000000e+00  0.00000000e+00  0.00000000e+00  1.00000000e+00]]\n"
     ]
    }
   ],
   "source": [
    "from scipy.spatial.transform import Rotation as R\n",
    "\n",
    "def get_matching_cloud_anchor(cloud_identifier):\n",
    "    for anchor in alldata['cloudAnchorsForAlignment']:\n",
    "        if anchor['cloudAnchorID'] == cloud_identifier:\n",
    "            return np.array(anchor['anchorTransform']).reshape((4,4)).T\n",
    "    return None\n",
    "\n",
    "for anchor in alldata['garAnchors'][-3]:\n",
    "    if anchor['cloudIdentifier']:\n",
    "        corresponding_pose = get_matching_cloud_anchor(anchor['cloudIdentifier'])\n",
    "        if corresponding_pose is None:\n",
    "            continue\n",
    "        current_pose = np.array(anchor['transform']).reshape((4,4)).T\n",
    "        alignment_transform = current_pose @ np.linalg.inv(corresponding_pose)\n",
    "        v = np.cross(alignment_transform[:-1,1], np.array([0.0, 1.0, 0.0]))\n",
    "        u = v / np.linalg.norm(v)\n",
    "        theta = np.arcsin(np.linalg.norm(v))\n",
    "        flattened_rotation = R.from_rotvec(u*theta).as_matrix() @ alignment_transform[:-1,:-1]\n",
    "        flattened_transform = np.copy(alignment_transform)\n",
    "        flattened_transform[:-1, :-1] = flattened_rotation\n",
    "        print(\"flattened\", flattened_rotation)\n",
    "        print(\"original\", alignment_transform)"
   ]
  },
  {
   "cell_type": "markdown",
   "id": "749e20a2",
   "metadata": {},
   "source": [
    "## Matching Geospatial Data with GARAnchors\n",
    "\n",
    "For each of the times we log the cloud anchors, it would be great to also have the associated latitude and longitude.  This information can be found in \"garAnchorCameraWorldTransformsAndGeoSpatialData\"\n",
    "\n",
    "The code below shows the data at the last time the anchors were captured."
   ]
  },
  {
   "cell_type": "code",
   "execution_count": 7,
   "id": "72eca123",
   "metadata": {},
   "outputs": [
    {
     "data": {
      "text/plain": [
       "{'geospatialTransform': {'altitude': 30.973579423502088,\n",
       "  'altitudeAccuracy': 0.41175201558642865,\n",
       "  'heading': 197.92583552075735,\n",
       "  'latitude': 42.2929962996853,\n",
       "  'positionAccuracy': 0.6863294836890871,\n",
       "  'headingAccuracy': 1.69094893235862,\n",
       "  'longitude': -71.2640707053369},\n",
       " 'cameraWorldTransform': [0.23954954743385315,\n",
       "  -0.9656744599342346,\n",
       "  -0.10044191032648087,\n",
       "  0,\n",
       "  -0.35915231704711914,\n",
       "  0.007975890301167965,\n",
       "  -0.9332447648048401,\n",
       "  0,\n",
       "  0.9020118713378906,\n",
       "  0.2596323490142822,\n",
       "  -0.34491363167762756,\n",
       "  0,\n",
       "  -49.58527755737305,\n",
       "  0.5527532696723938,\n",
       "  45.4322509765625,\n",
       "  0.9999998807907104]}"
      ]
     },
     "execution_count": 7,
     "metadata": {},
     "output_type": "execute_result"
    }
   ],
   "source": [
    "alldata['garAnchorCameraWorldTransformsAndGeoSpatialData'][-1]"
   ]
  }
 ],
 "metadata": {
  "kernelspec": {
   "display_name": "Python 3.9.8 64-bit ('3.9.8')",
   "language": "python",
   "name": "python3"
  },
  "language_info": {
   "codemirror_mode": {
    "name": "ipython",
    "version": 3
   },
   "file_extension": ".py",
   "mimetype": "text/x-python",
   "name": "python",
   "nbconvert_exporter": "python",
   "pygments_lexer": "ipython3",
   "version": "3.10.4"
  },
  "vscode": {
   "interpreter": {
    "hash": "0c71b10975b92784168db8aead9d1978de4af4fb5cdf4cd2fd248d365598012a"
   }
  }
 },
 "nbformat": 4,
 "nbformat_minor": 5
}
